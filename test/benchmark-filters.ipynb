{
 "cells": [
  {
   "cell_type": "markdown",
   "id": "3e0f9275",
   "metadata": {},
   "source": [
    "On cherche à voir quels filtres fonctionnent le mieux sur notre mini corpus de phrases alignées correctement\n",
    "-----"
   ]
  },
  {
   "cell_type": "code",
   "execution_count": 29,
   "id": "435e1d6e",
   "metadata": {},
   "outputs": [
    {
     "name": "stdout",
     "output_type": "stream",
     "text": [
      "[('Hi, my name is Pierre and i love eating apples.', \"Bonjour, je m'appelle Pierre et j'adore manger des pommes.\"), ('Last night, i took the bus 396 to go home from the cinema, it was dark.', \"Hier soir, j'ai pris le bus 396 pour rentrer du cinéma, il faisait nuit noire.\"), ('This artist is my favorite artist, i discovered him during a concert in Las Vegas. His album \"Vanilla\" is a masterpiece.', 'Cet artiste est mon artiste préféré, je l\\'ai découvert lors d\\'un concert à Las Vegas. Son album \"Vanilla\" est un chef d\\'oeuvre.'), (\"Here is my email address: jean.pierre@gmail.com Please don't spam me, I hate it.\", \"Voici mon adresse mail : jean.pierre@gmail,com ne me spamer pas s'il vous plait je déteste ça.\"), ('The PS3 was the best-selling console during the period 2005-2013, with the Xbox 360 slightly behind.', 'La ps3 est la console la plus vendue pendant la période 2005-2013, la xbox 360 quant à elle est légèrement derrière.'), ('Whoa!!! Where are you going like that ? I almost fell.', \"Oula !!! où tu vas comme ça ? J'ai failli tomber.\"), (\"The lifeguard said you shouldn't run, you only do what you want !\", \"Le maitre-nageur a dit qu'il ne fallait pas courir, tu n'en fais qu'a ta tête !\"), (\"What you're telling me is completely nonsensical, you've clearly been taken for a ride, any more and you'd have been on your last legs.\", \"Ce que tu m'expliques n'a ni queue, ni tête, tu t'es clairement fait rouler dans la farine, un peu plus et tu partais les quatre fers en l'air.\"), ('What the hell is this ?', \"Bordel ! c'est quoi ça ?\"), ('What time is it where you live ? Mine is 11:37.', 'Quelle heure il est chez toi ? Pour moi il est 11h37.'), ('The meeting just ended, you arrived too late.', 'La réunion vient de se terminer, tu es arrivée trop tard.'), ('I have RGB lights behind my keyboard. But what I like the most is my 32GB of RAM and my RTX 3070 graphics card.', \"J'ai des lumières RGB derrière mon clavier. Mais ce que je préfère le plus c'est mes 32Gb de ram et ma carte graphique de RTX 3070.\"), (\"It's the pot calling the kettle black !\", \"C'est l'hopital qui se fout de la charité.\"), (\"This map leads nowhere!! Okay, well, uh... Let's start from the beginning, we'll get there 😃!\", 'Cette carte ne mène nulle part !! Bon, enfin, euhh... Reprenons depuis le début on va y arriver 😃 !'), ('I wonder if they thought to bring their umbrella, the weather forecast said it would rain this morning.', 'Je me demande si ils ont pensé à prendre leur parapluie, ils ont annoncé de la pluie ce matin à la météo.'), ('My back hurts, I need to make an appointment with my physiotherapist.', 'Mon dos me fait mal, je dois prendre rdv chez mon kiné.'), ('Great, yum! And where can we find this cake recipe?', 'Super, miam ! et cette recette de gâteau on la retrouve où ??'), ('I was born on December 29, 2000.', 'Je suis né le 29 décembre 2000.'), ('Nietzsche is probably right in his worldview, but I find it too pessimistic to admit it. I prefer Stoic philosophy.', \"Nietzsche a surement raison dans sa vision du monde, mais je la trouve trop pessimiste pour l'admettre je préfère la philosophie stoïcienne.\"), ('During my internship, I was able to discover new approaches to tackling a problem.', \"Pendant mon stage, j'ai pu découvrir des nouvelles approches pour aborder un problème.\"), (\"I really need to think about canceling my subscription, it's starting to add up !! Ouch !\", 'Il faut vraiment que je pense à résillier mon abonnement, ça commence à chiffrer tout ça !! aie !'), ('Tell me, what do you think about all this ?', 'Dis-moi tu en penses quoi toi de tout ça ?'), (\"The grass is really nicer at the neighbor's.\", \"L'herbe est vraiment plus belle chez le voisin.\"), ('I would love to go backpacking and travel the world.', \"J'adorerai partir avec mon sac et dos et faire le tour du monde.\"), ('The deadline was 07/24/2025, what did you do during all this time ?', \"La date butoire était le 24/07/2025, qu'avez vous fait pendant tout ce temps ?\"), ('The cat is sleeping on the couch.', 'Le chat dort sur le canapé.'), ('We went shopping today, it was hot so we stopped for an ice cream.', \"Nous sommes allés faire les magasins aujourd'hui, il faisait chaud donc nous nous sommes arrêtés pour manger une glace.\"), ('I saw 6 shooting stars in the sky last night.', \"J'ai vu 6 étoiles filantes dans le ciel cette nuit.\"), ('And suddenly he cried out, \"I’m hungry!\".', 'Et soudain, il s\\'écria : \" J\\'ai faim ! \".'), ('Have you seen the latest animated film released in cinema?', \"As-tu vu le dernier film d'animation sorti au cinéma ?\"), ('He spent $50 on a sandwich.', 'Il a dépensé 50$ pour un sandwich.'), ('There is - 30% discount on this t-shirt, it’s worth it!', 'Il y a - 30% de réduction sur ce t-shirt, ça vaut le coup !'), ('It’s 23°C today.', \"Il fait 23°C aujourd'hui.\"), ('Meet me outside the station at noon.', 'On se retrouve devant la gare à midi.'), ('Oh there! You broke everything again??!', \"Oh là là ! T'as encore tout cassé ??!\"), ('Having your head in the clouds.', 'Avoir la tête dans les nuages.'), ('Be rolled in flour.', 'Se faire rouler dans la farine.'), ('He threw in the towel.', \"Il a jeté l'éponge.\"), ('Every day Marie goes to pick flowers in her garden.', 'Chaque jour Marie va cueillir des fleurs dans son jardin.'), ('I loved the restaurant yesterday, it was incredible!', \"J'ai kiffé le resto d'hier, c'était incroyable !\"), ('He’s too nasty to give me lessons!', 'Il est trop relou celui-là à me donner des leçons !!'), ('Damn, I forgot my keys again!', \"Zut, j'ai encore oublié mes clés !\"), ('Damn, I forgot I had a date tonight...', \"Purée, j'ai zappé que j'avais un rdv ce soir...\"), ('She flashed in the room without ever standing still.', 'Elle papillonait dans la pièce sans jamais rester en place.'), ('After a long day at work, I like to read to relax.', \"Après une longue journée de travail, j'aime bien lire pour me reposer.\"), ('I prepare my weekly meals in advance to save time.', 'Je prépare mes repas de la semaine en avance pour gagner du temps.'), ('My phone is broken...I need to buy a new one.', 'Mon tél est cassé...je dois en racheter un nouveau.'), ('When the cat is not there, the mice dance.', \"Quand le chat n'est pas là, les souris dansent.\"), ('You killed me with your joke!', \"Tu m'as tué avec ta blague !\"), ('What do you want to do tonight?', 'Tu veux faire quoi ce soir ?')]\n",
      "50\n"
     ]
    }
   ],
   "source": [
    "with open(\"./data/aligned/en.txt\") as f_en, open(\"./data/aligned/fr.txt\") as f_fr:\n",
    "    en_sentences = [l.strip() for l in f_en]\n",
    "    fr_sentences = [l.strip() for l in f_fr]\n",
    "original_pairs = list(zip(en_sentences, fr_sentences))\n",
    "\n",
    "print(original_pairs)\n",
    "print(len(original_pairs))"
   ]
  },
  {
   "cell_type": "markdown",
   "id": "6c629e50",
   "metadata": {},
   "source": [
    "On va générer plusieurs configurations de fichiers yaml avec les filtres opusfilter qui nous semblent intéressants\n",
    "\n",
    "--------"
   ]
  },
  {
   "cell_type": "code",
   "execution_count": 72,
   "id": "252813de",
   "metadata": {},
   "outputs": [],
   "source": [
    "import itertools\n",
    "import yaml\n",
    "import os\n",
    "\n",
    "def generate_config(lenght_ratio: list = None, \n",
    "                    language_id: dict = None, \n",
    "                    character_score: dict = None) -> None:\n",
    "    \"\"\"Cette fonction génère un ou plusieurs fichiers de configurations yaml, vous devez spécifier les arguments\n",
    "    que vous souhaitez utiliser :\n",
    "    - lenght_ratio => seuil pour le filtre LengthRatio\n",
    "    - language_id => dictionnaire pour le filtre LanguageId\n",
    "    - character_score => dictionnaire pour le filtre CharacterScore\n",
    "    \"\"\"\n",
    "    \n",
    "    filters = []\n",
    "    \n",
    "    # Charger la configuration de base\n",
    "    with open('./data/settings_yaml/config.yaml', 'r') as f:\n",
    "        base_config = yaml.safe_load(f)\n",
    "\n",
    "    # Ajouter les filtres sélectionnés\n",
    "    if lenght_ratio is not None:\n",
    "        filters.append((\"LengthRatioFilter\", lenght_ratio))\n",
    "    if language_id is not None:\n",
    "        filters.append((\"LanguageIdFilter\", [dict(language_id)]))  \n",
    "    if character_score is not None:\n",
    "        filters.append((\"CharacterScoreFilter\", [dict(character_score)]))\n",
    "    \n",
    "    all_combinations = itertools.product(*[f[1] for f in filters])\n",
    "\n",
    "   \n",
    "    output_dir = './data/settings_yaml/'\n",
    "    os.makedirs(output_dir, exist_ok=True)\n",
    "\n",
    "    for combination in all_combinations:\n",
    "        new_config = base_config.copy()\n",
    "        new_config['steps'][0]['parameters']['filters'] = []\n",
    "\n",
    "       \n",
    "        filter_str = \"_\".join([f\"{filters[i][0]}_{combination[i]}\" for i in range(len(filters))])\n",
    "\n",
    "        # \n",
    "        for i, (filter_name, _) in enumerate(filters):\n",
    "            value = combination[i]\n",
    "            if filter_name == \"LengthRatioFilter\":\n",
    "                new_config['steps'][0]['parameters']['filters'].append({\n",
    "                    filter_name: {\n",
    "                        \"threshold\": value,\n",
    "                        \"name\": \"word\",\n",
    "                        \"unit\": \"word\"\n",
    "                    }\n",
    "                })\n",
    "            else:\n",
    "                new_config['steps'][0]['parameters']['filters'].append({\n",
    "                    filter_name: {\n",
    "                        \"threshold\": value\n",
    "                    }\n",
    "                })\n",
    "\n",
    "        ## modifications des outputs dans le fichier yaml\n",
    "        new_config['steps'][0]['parameters']['outputs'] = [\n",
    "            f\"en_{filter_str}.filtered.gz\",\n",
    "            f\"fr_{filter_str}.filtered.gz\"\n",
    "        ]\n",
    "\n",
    "        \n",
    "        config_filename = f\"config_{filter_str}.yaml\"\n",
    "        config_path = os.path.join(output_dir, config_filename)\n",
    "        with open(config_path, 'w') as f_out:\n",
    "            yaml.safe_dump(new_config, f_out, default_flow_style=False)"
   ]
  },
  {
   "cell_type": "code",
   "execution_count": null,
   "id": "c672fe5d",
   "metadata": {},
   "outputs": [],
   "source": [
    "generate_config(lenght_ratio=[0.5, 1.0, 1.5])\n",
    "generate_config(language_id={\"language\": \"en\"})\n",
    "generate_config(lenght_ratio=[0.5, 1.0, 1.5], language_id={\"language\": \"en\"})"
   ]
  },
  {
   "cell_type": "markdown",
   "id": "fbfe2ddf",
   "metadata": {},
   "source": [
    "On va ensuite executer les fichiers yaml\n",
    "\n",
    "-----"
   ]
  },
  {
   "cell_type": "code",
   "execution_count": 70,
   "id": "5c34dc89",
   "metadata": {},
   "outputs": [
    {
     "name": "stdout",
     "output_type": "stream",
     "text": [
      "Running opusfilter with config: data/settings_yaml/config_LengthRatioFilter_0.5.yaml\n"
     ]
    },
    {
     "name": "stderr",
     "output_type": "stream",
     "text": [
      "INFO:opusfilter.opusfilter:Running step 1: filter\n",
      "50it [00:00, 38593.15it/s]\n"
     ]
    },
    {
     "name": "stdout",
     "output_type": "stream",
     "text": [
      "Running opusfilter with config: data/settings_yaml/config_LengthRatioFilter_1.5.yaml\n"
     ]
    },
    {
     "name": "stderr",
     "output_type": "stream",
     "text": [
      "INFO:opusfilter.opusfilter:Running step 1: filter\n",
      "50it [00:00, 17769.46it/s]\n"
     ]
    },
    {
     "name": "stdout",
     "output_type": "stream",
     "text": [
      "Running opusfilter with config: data/settings_yaml/config_LengthRatioFilter_1.0.yaml\n"
     ]
    },
    {
     "name": "stderr",
     "output_type": "stream",
     "text": [
      "INFO:opusfilter.opusfilter:Running step 1: filter\n",
      "50it [00:00, 49044.71it/s]\n"
     ]
    }
   ],
   "source": [
    "import glob\n",
    "import subprocess\n",
    "\n",
    "yaml_files = glob.glob(\"data/settings_yaml/config_*.yaml\")\n",
    "\n",
    "for config_path in yaml_files:\n",
    "    print(f\"Running opusfilter with config: {config_path}\")\n",
    "    subprocess.run([\"opusfilter\", \"--overwrite\", config_path])\n"
   ]
  },
  {
   "cell_type": "markdown",
   "id": "a2723157",
   "metadata": {},
   "source": [
    "On va analyser les fichiers générés par yaml avec nos filtres et les comparés à nos phrases alignées \n",
    "\n",
    "--------"
   ]
  },
  {
   "cell_type": "code",
   "execution_count": 71,
   "id": "d35f1bfc",
   "metadata": {},
   "outputs": [
    {
     "name": "stdout",
     "output_type": "stream",
     "text": [
      "\n",
      "=== Threshold 0.5 ===\n",
      "50 paires supprimées.\n",
      "Exemples :\n",
      "- EN: Hi, my name is Pierre and i love eating apples.\n",
      "  FR: Bonjour, je m'appelle Pierre et j'adore manger des pommes.\n",
      "- EN: Last night, i took the bus 396 to go home from the cinema, it was dark.\n",
      "  FR: Hier soir, j'ai pris le bus 396 pour rentrer du cinéma, il faisait nuit noire.\n",
      "- EN: This artist is my favorite artist, i discovered him during a concert in Las Vegas. His album \"Vanilla\" is a masterpiece.\n",
      "  FR: Cet artiste est mon artiste préféré, je l'ai découvert lors d'un concert à Las Vegas. Son album \"Vanilla\" est un chef d'oeuvre.\n",
      "- EN: Here is my email address: jean.pierre@gmail.com Please don't spam me, I hate it.\n",
      "  FR: Voici mon adresse mail : jean.pierre@gmail,com ne me spamer pas s'il vous plait je déteste ça.\n",
      "- EN: The PS3 was the best-selling console during the period 2005-2013, with the Xbox 360 slightly behind.\n",
      "  FR: La ps3 est la console la plus vendue pendant la période 2005-2013, la xbox 360 quant à elle est légèrement derrière.\n",
      "\n",
      "=== Threshold 1.0 ===\n",
      "50 paires supprimées.\n",
      "Exemples :\n",
      "- EN: Hi, my name is Pierre and i love eating apples.\n",
      "  FR: Bonjour, je m'appelle Pierre et j'adore manger des pommes.\n",
      "- EN: Last night, i took the bus 396 to go home from the cinema, it was dark.\n",
      "  FR: Hier soir, j'ai pris le bus 396 pour rentrer du cinéma, il faisait nuit noire.\n",
      "- EN: This artist is my favorite artist, i discovered him during a concert in Las Vegas. His album \"Vanilla\" is a masterpiece.\n",
      "  FR: Cet artiste est mon artiste préféré, je l'ai découvert lors d'un concert à Las Vegas. Son album \"Vanilla\" est un chef d'oeuvre.\n",
      "- EN: Here is my email address: jean.pierre@gmail.com Please don't spam me, I hate it.\n",
      "  FR: Voici mon adresse mail : jean.pierre@gmail,com ne me spamer pas s'il vous plait je déteste ça.\n",
      "- EN: The PS3 was the best-selling console during the period 2005-2013, with the Xbox 360 slightly behind.\n",
      "  FR: La ps3 est la console la plus vendue pendant la période 2005-2013, la xbox 360 quant à elle est légèrement derrière.\n",
      "\n",
      "=== Threshold 1.5 ===\n",
      "3 paires supprimées.\n",
      "Exemples :\n",
      "- EN: Oh there! You broke everything again??!\n",
      "  FR: Oh là là ! T'as encore tout cassé ??!\n",
      "- EN: Be rolled in flour.\n",
      "  FR: Se faire rouler dans la farine.\n",
      "- EN: He’s too nasty to give me lessons!\n",
      "  FR: Il est trop relou celui-là à me donner des leçons !!\n"
     ]
    }
   ],
   "source": [
    "import gzip\n",
    "\n",
    "def analyze_results(original_pairs, thresholds):\n",
    "    results = {}\n",
    "\n",
    "    # Boucle à travers les seuils\n",
    "    for threshold in thresholds:\n",
    "        # Construire les chemins pour les fichiers en fonction du seuil\n",
    "        en_file = f\"./data/filtered/en_LengthRatioFilter_{threshold}.filtered.gz\"\n",
    "        fr_file = f\"./data/filtered/fr_LengthRatioFilter_{threshold}.filtered.gz\"\n",
    "        \n",
    "        # Ouvrir les fichiers filtrés pour chaque seuil\n",
    "        with gzip.open(en_file, \"rt\", encoding=\"utf-8\") as f_en_filt, \\\n",
    "             gzip.open(fr_file, \"rt\", encoding=\"utf-8\") as f_fr_filt:\n",
    "            \n",
    "            # Créer des ensembles (sets) de paires filtrées\n",
    "            filtered_pairs = set(zip(\n",
    "                [l.strip() for l in f_en_filt],\n",
    "                [l.strip() for l in f_fr_filt]\n",
    "            ))\n",
    "\n",
    "        # Comparer les paires originales avec les paires filtrées\n",
    "        removed_pairs = [pair for pair in original_pairs if pair not in filtered_pairs]\n",
    "\n",
    "        # Enregistrer le nombre de paires supprimées pour ce seuil\n",
    "        results[threshold] = len(removed_pairs)\n",
    "\n",
    "        # Afficher les résultats\n",
    "        print(f\"\\n=== Threshold {threshold} ===\")\n",
    "        print(f\"{len(removed_pairs)} paires supprimées.\")\n",
    "        \n",
    "        if removed_pairs:  # Si des paires ont été supprimées\n",
    "            print(\"Exemples :\")\n",
    "            for pair in removed_pairs[:5]:  # Afficher les 5 premiers exemples\n",
    "                print(f\"- EN: {pair[0]}\")\n",
    "                print(f\"  FR: {pair[1]}\")\n",
    "        else:\n",
    "            print(\"Aucune paire supprimée.\")\n",
    "\n",
    "    return results\n",
    "\n",
    "\n",
    "####################################\n",
    "thresholds = [0.5, 1.0, 1.5]  # Exemple de seuils\n",
    "####################################\"\"\n",
    "with open(\"data/aligned/en.txt\", \"r\", encoding=\"utf-8\") as f_en, \\\n",
    "     open(\"data/aligned/fr.txt\", \"r\", encoding=\"utf-8\") as f_fr:\n",
    "    \n",
    "    original_pairs = list(zip(\n",
    "        [l.strip() for l in f_en],\n",
    "        [l.strip() for l in f_fr]\n",
    "    ))\n",
    "\n",
    "# Analyser les résultats pour chaque filtre et seuil\n",
    "results = analyze_results(original_pairs, thresholds)\n"
   ]
  }
 ],
 "metadata": {
  "kernelspec": {
   "display_name": "filter-align",
   "language": "python",
   "name": "python3"
  },
  "language_info": {
   "codemirror_mode": {
    "name": "ipython",
    "version": 3
   },
   "file_extension": ".py",
   "mimetype": "text/x-python",
   "name": "python",
   "nbconvert_exporter": "python",
   "pygments_lexer": "ipython3",
   "version": "3.12.3"
  }
 },
 "nbformat": 4,
 "nbformat_minor": 5
}
